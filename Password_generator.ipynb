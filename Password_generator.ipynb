{
  "nbformat": 4,
  "nbformat_minor": 0,
  "metadata": {
    "colab": {
      "provenance": [],
      "authorship_tag": "ABX9TyMIsZrnGMbHjg9kKmSKbnge",
      "include_colab_link": true
    },
    "kernelspec": {
      "name": "python3",
      "display_name": "Python 3"
    },
    "language_info": {
      "name": "python"
    }
  },
  "cells": [
    {
      "cell_type": "markdown",
      "metadata": {
        "id": "view-in-github",
        "colab_type": "text"
      },
      "source": [
        "<a href=\"https://colab.research.google.com/github/AayushMishragit/AayushMishragit/blob/main/Password_generator.ipynb\" target=\"_parent\"><img src=\"https://colab.research.google.com/assets/colab-badge.svg\" alt=\"Open In Colab\"/></a>"
      ]
    },
    {
      "cell_type": "code",
      "execution_count": null,
      "metadata": {
        "id": "4D4xTglCS8_x",
        "colab": {
          "base_uri": "https://localhost:8080/"
        },
        "outputId": "9f8675fb-d40a-4ad9-85b8-83e94b310510"
      },
      "outputs": [
        {
          "output_type": "stream",
          "name": "stdout",
          "text": [
            "Enter a length: 5\n",
            "Generated Password: O-*WU\n"
          ]
        }
      ],
      "source": [
        "\n",
        "\n",
        "\n",
        "import random\n",
        "\n",
        "lower = \"abcdefghijklmnopqrstuvwxyz\"\n",
        "\n",
        "upper = \"ABCDEFGHIJKLMNOPQRSTUVWXYZ\"\n",
        "\n",
        "numbers = \"0123456789\"\n",
        "\n",
        "symbols = \"!@#$%^&*()_-+=?><[\"\n",
        "\n",
        "all_chars = lower + upper + numbers + symbols\n",
        "\n",
        "length = int(input(\"Enter a length: \"))\n",
        "\n",
        "password = ''.join(random.sample(all_chars, length))\n",
        "\n",
        "print(\"Generated Password:\", password)"
      ]
    }
  ]
}